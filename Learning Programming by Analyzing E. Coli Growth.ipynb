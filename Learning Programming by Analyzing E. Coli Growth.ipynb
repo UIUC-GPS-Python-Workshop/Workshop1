{
 "cells": [
  {
   "cell_type": "markdown",
   "metadata": {},
   "source": [
    "# Table of Contents\n",
    "* [An introduction to programming by analyzing *E. coli* populations](#An-introduction-to-programming-by-analyzing-E. coli-populations)\n",
    "* [Storing variables, performing arithmetic, and printing text](#Storing-variables,-performing-arithmetic,-and-printing-text)\n",
    "  * [Exercise 1](#Exercise-1)\n",
    "* [Importing data and importing Python libraries](#Importing-data-and-importing-Python-libraries)\n",
    "  * [Exercise 2](#Exercise-2)\n",
    "* [Plotting data and loops](#Plotting-data-and-loops)\n",
    "  * [Exercise 3](#Exercise-3)\n",
    "* [Keyword arguments](#Keyword-arguments)\n",
    "  * [Exercise 4](#Exercise-4)\n",
    "* [Fitting a model to data and defining functions](#Fitting-a-model-to-data-and-defining-functions)\n",
    "  * [Exercise 5](#Exercise-5)\n",
    "\n",
    "\n",
    "# An introduction to programming by analyzing *E. coli* populations\n",
    "\n",
    "As an introduction to programming today, you are going to use Python to do some real scientific analysis. You will see you can get useful things done with even a little programming.\n",
    "\n",
    "Suppose you've been given a grant to study how antibiotics affect the bacteria *E. coli*.\n",
    "\n",
    "You want to measure the growth rate of *E. coli* grown in various concentrations of the antibiotic Chloramphenicol. For the experiment, you grew *E. coli* in a liquid broth with antibiotic. You expect that *E. coli* populations will initially grow exponentially, and the rate of this exponential growth will depend on the antibiotic concentration in the culture. Higher concentrations of antibiotic lead to lower growth rates.\n",
    "\n",
    "You can measure *E. coli* population size by how much light they absorb. An automated instrument recorded the size of E. coli populations over time in various antibiotic concentrations. The instrument collected the data and stored it in a text file, but you'll need to analyze it.\n",
    "\n",
    "In order to analyze the data, you will learn how to do a few things. First, you will learn how to store data and operate on data in Python. Second, you will learn how to get data and tools from outside Python into Python. Third, you'll learn how to plot data in Python, including labeling axes and adding legends. Fourth, you'll learn how to do repeat operations in Python without typing too much. Finally, you'll learn how to define functions in Python so you can build tools to do what you need.\n",
    "\n",
    "## Storing variables, performing arithmetic, and printing text\n",
    "<font size=\"1\">[Return to Table of Contents](#Table-of-Contents)</font>\n",
    "\n",
    "Inside the workshop folder, you have a spreadsheet of data created by the instrument for measuring the density of cultures of *E. coli* over time. This spreadsheet is \"MG1655 Chloramphenicol 10 Feb averages simplified sheet.csv\". This is a plain text file, but it's easier to understand when viewed in Excel or another spreadsheet program. Please open the file now in your spreadsheet program. The top row of the file is the times at which the measurements were taken. Each row afterwards is the optical density of an *E. coli* sample over time.\n",
    "\n",
    "Looking at the file you'll notice a few things. There are no units recorded, so I have to tell you. The times in the top row are in seconds. *E. coli* have growth rates on the order of hours not seconds. You decide you're going to need to convert the seconds to hours. To do this, you're going to need to learn how to do basic operations in Python first.\n",
    "\n",
    "***\n",
    "\n",
    "#### Storing values in variables\n",
    "\n",
    "You can save values for later and name them in python by writing code like <code> x = 3 </code>. Later in the code, x is another name for 3. Python also has basic arithmetic built in. This includes addition, subtraction, multiplication, division, modulo, and power. You can do them like so"
   ]
  },
  {
   "cell_type": "code",
   "execution_count": null,
   "metadata": {
    "collapsed": false
   },
   "outputs": [],
   "source": [
    "x = 3\n",
    "y = .5\n",
    "addition_result = x + y\n",
    "subtraction_result = x - y\n",
    "multiplication_result = x * y\n",
    "division_result = x / y\n",
    "modulo_result = x % y # the modulo operator in python is %\n",
    "exponentiation_result = x**y # to take x to the power y in python you write **\n",
    "print('x =', x)\n",
    "print('y =', y)\n",
    "print('x + y =', addition_result)\n",
    "print('x - y =', subtraction_result)\n",
    "print('x * y =', multiplication_result)\n",
    "print('x / y =', division_result)\n",
    "print('x mod y =', modulo_result)\n",
    "print('x ^ y =', exponentiation_result)"
   ]
  },
  {
   "cell_type": "markdown",
   "metadata": {},
   "source": [
    "There are a few things to explain here. \n",
    "\n",
    "1. Although names like \"x\" are acceptable for variables sometimes, *you should usually give your variables names that help you or someone else understand their purpose*.\n",
    "2. The **#** sign tells Python to ignore any text starting at the # sign and until the next return. This text doesn't mean anything in Python. It's so you can embed explanations of what you are doing in your code. These are called comments. You shouldn't comment every line, but you should do it whenever something would be unclear to someone reading your code- _**especially yourself 6 months later!**_ Here I've commented the arithmetic operations where python uses symbols for them that are not the mathematical standard.\n",
    "3. \"print\" is a Python **function**. Python functions are like mathematical functions in that they take some inputs (sometimes 0 inputs) and produce some outputs. You evaluate a python function for some particular inputs by writing <code>function_name(input1, input2, input3,...)</code> except with the correct number of inputs and no \"...\" after. This is called **calling** the function. The inputs to a function are called its **arguments**. You can write code once for a function then easily reuse it whenever you need it. The \"print\" function outputs text. It is extremely useful. It lets you send messages to people using your programs and helps you inspect and debug your programs.\n",
    "4. The letters inside ' ' are **strings**. Strings are text. Python has many datatypes, but some of the most basic and important ones are **integers** (mathematical integers), **floats** (a finite precision approximation of real numbers), and **strings** (text). The print function will print most characters in strings as you see them in the string. The print function prints the value of variables. And you can put multiple things together with print by separating them with commas.\n",
    "\n",
    "***\n",
    "\n",
    "#### <span style=\"color:blue\">Exercise 1</span>\n",
    "<font size=\"1\">[Return to Table of Contents](#Table-of-Contents)</font>\n",
    "\n",
    "Now using what you have learned, make a variable storing the value of the number of seconds per hour so you can use this number later to convert the time in seconds in the spreadsheet to hours. Whether or not you know or can calculate the number of seconds per hour, be selectively lazy and have python calculate its value for you from the number of seconds per minute and the number of minutes per hour. Use descriptive variable names. Then output some text stating how many seconds there are per hour. Do not print just the value. Print words too so someone can see what unit conversion you have calculated."
   ]
  },
  {
   "cell_type": "code",
   "execution_count": null,
   "metadata": {
    "collapsed": false
   },
   "outputs": [],
   "source": [
    "# your code here"
   ]
  },
  {
   "cell_type": "markdown",
   "metadata": {},
   "source": [
    "##### Additional Exercises - Strings\n",
    "\n",
    "1. You make a string in python by surrounding some text with either single quotes or double quotes like this <code>'This is a string'</code>. However, a string will not always be printed as exactly the text inside it. For example, what happens if you put <code>\\n</code> inside a string? Try printing a string with <code>\\n</code> inside it.\n",
    "\n",
    "2. Under storing values in variables, there are examples showing standard mathematical operators for integers and floating point numbers (an approximation to real numbers). Strings also have some standard behaviors in python. Try adding two strings together or multiplying a string by a number. What happens?\n",
    "\n",
    "3. Different types of data have different purposes. Try adding <code>3</code> to a string. Then try adding <code>'3'</code> to a string. What happens in each case? From these cases you might wonder \"how can you turn a number into a string?\" Call the <code>str</code> function on it. <code>str(3)</code> will return a value equal to <code>'3'</code>."
   ]
  },
  {
   "cell_type": "code",
   "execution_count": null,
   "metadata": {
    "collapsed": false
   },
   "outputs": [],
   "source": [
    "# your code here"
   ]
  },
  {
   "cell_type": "markdown",
   "metadata": {},
   "source": [
    "***\n",
    "## Importing data and importing Python libraries\n",
    "<font size=\"1\">[Return to Table of Contents](#Table-of-Contents)</font>\n",
    "\n",
    "Since you're going to be analyze numerical data from the text file, you're going to want to use more tools than Python's core. An important part of coding is being able to use others' code to do various tasks so you don't have to program from scratch. But it's also important to keep code organized and not have your programs load everything but the kitchen sink when you only need one thing. Python code for a particular set of tasks is called a **module**. You can load python modules or your own files with the keyword **import**. You are now going to load the python math module **NumPy**."
   ]
  },
  {
   "cell_type": "code",
   "execution_count": null,
   "metadata": {
    "collapsed": true
   },
   "outputs": [],
   "source": [
    "import numpy as np"
   ]
  },
  {
   "cell_type": "markdown",
   "metadata": {},
   "source": [
    "In order to access code from a module you must first put the module name followed by a \".\" then the name of what you want to access. Because programmers are lazy, they don't want to have to type <code>numpy</code> every time they want to use a NumPy function. Instead you can give it a shorter alias; by convention this alias is \"np\". Whenever you are going to use something from NumPy you'll type \"np.thing\". Modules may also have submodules to further organize them or in case you only want a submodule, so sometimes you'll type \"module.submodule.thing\"."
   ]
  },
  {
   "cell_type": "markdown",
   "metadata": {},
   "source": [
    "#### A brief intro to NumPy"
   ]
  },
  {
   "cell_type": "markdown",
   "metadata": {},
   "source": [
    "NumPy has a special new datatype, a NumPy array. Arrays are collections of numbers arranged in lines, rectangles, cubes, etc. You can think of a 1-dimensional array as being like a vector, a 2-dimensional array as being a matrix, etc. When using a new library, you'll often need to read documentation to understand it. NumPy has a detailed user guide [here](https://docs.scipy.org/doc/numpy-1.13.0/user/index.html#user). If you have a specific question though, Google is probably faster than searching the docs directly. Sometimes though you just want to know what a function's inputs are or what it does. Python modules and functions have documentation built in. You can read the documentation for a function by typing <code>help(function)</code>. For example,"
   ]
  },
  {
   "cell_type": "code",
   "execution_count": null,
   "metadata": {
    "collapsed": false
   },
   "outputs": [],
   "source": [
    "help(print)"
   ]
  },
  {
   "cell_type": "markdown",
   "metadata": {},
   "source": [
    "Jupyter notebooks also have a helpful feature for discovering what's in a module. Whenever you're typing, if you hit tab, you'll see a list of suggested possible python variables, names, etc that will complete your current word. So if you are wondering if NumPy has an exponential function you can type \"np.exp\" then hit tab. You'll get a dropdown list that contains a function called \"np.exp\". If you want to know more about this function then combine this with the above tip. type <code>help(np.exp)</code> in a cell and see what it does.\n",
    "\n",
    "NumPy comes with functions for specifying certain common arrays like arrays of all 0's or all 1's or a vector of integers. It also has a syntax for inputting arbitrary arrays."
   ]
  },
  {
   "cell_type": "code",
   "execution_count": null,
   "metadata": {
    "collapsed": false
   },
   "outputs": [],
   "source": [
    "zeros = np.zeros((3,3))\n",
    "ones = np.ones((3,3))\n",
    "one_to_three = np.arange(1,4) #this array will start at 1 and stop at the integer before 4\n",
    "array_1d = np.array([2, 8, 6])\n",
    "array_2d = np.array([[3.3, -7, 1],\n",
    "                     [2.1, 45, 3],\n",
    "                     [0.9, 23, 1]]) \n",
    "print('zeros is')\n",
    "print(zeros)\n",
    "print('ones is')\n",
    "print(ones)\n",
    "print('one_to_three is', one_to_three)\n",
    "print('array_1d is', array_1d)\n",
    "print('array_2d is')\n",
    "print(array_2d)"
   ]
  },
  {
   "cell_type": "markdown",
   "metadata": {},
   "source": [
    "Numpy arrays can be added, subtracted, multiplied, etc. with the regular python operators. This works element by element. So **don't use the multiplication sign * if you want to do matrix multiplication with 2-dimensional NumPy arrays**."
   ]
  },
  {
   "cell_type": "code",
   "execution_count": null,
   "metadata": {
    "collapsed": false
   },
   "outputs": [],
   "source": [
    "print('array_1d + one_to_three =', array_1d + one_to_three)\n",
    "print('array_1d * one_three', array_1d * one_to_three)\n",
    "print('2 times array_1d is', 2 * array_1d)"
   ]
  },
  {
   "cell_type": "markdown",
   "metadata": {},
   "source": [
    "You can pick single elements from a NumPy array and take subsets (called \"slices\") of NumPy arrays. NumPy arrays are indexed *starting from 0*. This means that the first element in a one dimensional NumPy array named <code>x</code> is <code>x[0]</code>. You can take subsets of a NumPy array by putting [ ] after the array and putting in the index you want to start from then a colon then *one index after* you want to stop. This is a little bit strange and may take some getting used to. *The first index is included in the slice, but the very last index is not*. If a NumPy array has multiple dimensions, then the indexes for each dimension are separated by a comma. It's similar to matrix notation except indexing starts from 0 instead of 1. If you want to grab all of a dimension just put a colon with no numbers. This is all a bit arbitrary so maybe some examples will help. Study them carefully!"
   ]
  },
  {
   "cell_type": "code",
   "execution_count": null,
   "metadata": {
    "collapsed": false
   },
   "outputs": [],
   "source": [
    "print('The first element of array_1d is', array_1d[0])\n",
    "print('The upper left of array_2d is')\n",
    "print(array_2d[0:2,0:2])\n",
    "print('The lower right of array_2d is')\n",
    "print(array_2d[1:3,1:3])\n",
    "print('The first column of array_2d is', array_2d[:,0])\n",
    "print('The last row of array_2d is', array_2d[2,:])"
   ]
  },
  {
   "cell_type": "markdown",
   "metadata": {},
   "source": [
    "NumPy also comes with a function for loading data from a textfile into a NumPy array. Let's finally load the data from \"MG1655 Chloramphenicol 10 Feb averages simplified sheet.csv\" into Python."
   ]
  },
  {
   "cell_type": "code",
   "execution_count": null,
   "metadata": {
    "collapsed": true
   },
   "outputs": [],
   "source": [
    "data = np.loadtxt('MG1655 Chloramphenicol 10 Feb averages simplified sheet.csv', delimiter=',')\n",
    "# the delimiter tells numpy that numbers in the file are separated by commas. This syntax is covered later."
   ]
  },
  {
   "cell_type": "markdown",
   "metadata": {},
   "source": [
    "***\n",
    "#### <span style=\"color:blue\">Exercise 2</span>\n",
    "<font size=\"1\">[Return to Table of Contents](#Table-of-Contents)</font>\n",
    "\n",
    "The top row of the spreadsheet (and thus the NumPy array data) is the times in seconds the measurements were taken at. Take the top row of the data and make a new variable called \"time\" which is that row but with the times in hours instead of seconds (remember exercise 1?). Look at \"time\". How long did the experiment last? How often were measurements taken?"
   ]
  },
  {
   "cell_type": "code",
   "execution_count": null,
   "metadata": {
    "collapsed": false
   },
   "outputs": [],
   "source": [
    "# your code here"
   ]
  },
  {
   "cell_type": "markdown",
   "metadata": {},
   "source": [
    "##### Additional Exercises - More Numpy\n",
    "1. Use a NumPy array to compute the value of the cubic polynomial x^3-2x^2+4 for x = 0,1,2,3...,9. Remember NumPy arrays can use the same mathematical operators as regular numbers in Python! Print out the result.\n",
    "2. NumPy can multiply a matrix times a vector using the <code>np.dot</code> function. Given a 2-d array <code>A</code> and a 1-d array <code>x</code>, Ax is computed by <code>np.dot(A,x)</code>. Use numpy to multiply a 3-by-3 matrix by a vector. Confirm the result is correct."
   ]
  },
  {
   "cell_type": "code",
   "execution_count": null,
   "metadata": {
    "collapsed": false
   },
   "outputs": [],
   "source": [
    "# your code here"
   ]
  },
  {
   "cell_type": "markdown",
   "metadata": {},
   "source": [
    "***\n",
    "## Plotting data and loops\n",
    "<font size=\"1\">[Return to Table of Contents](#Table-of-Contents)</font>\n",
    "\n",
    "Next take another row of data and set it equal to a new variable called \"example_growth_curve\"."
   ]
  },
  {
   "cell_type": "code",
   "execution_count": null,
   "metadata": {
    "collapsed": true
   },
   "outputs": [],
   "source": [
    "example_growth_curve = data[1,:]"
   ]
  },
  {
   "cell_type": "markdown",
   "metadata": {},
   "source": [
    "Next plot this data. To do this, you're going to import another python library and tell the jupyter notebook to place plots in the notebook (that's what the line <code>%matplotlib inline</code> does)"
   ]
  },
  {
   "cell_type": "code",
   "execution_count": null,
   "metadata": {
    "collapsed": true
   },
   "outputs": [],
   "source": [
    "import matplotlib.pyplot as plt\n",
    "%matplotlib inline"
   ]
  },
  {
   "cell_type": "markdown",
   "metadata": {},
   "source": [
    "Matplotlib is the most common python plotting library. For simple 2-dimensional plots, you usually only need the pyplot subset of the Matplotlib module. By convention, \"matplotlib.pyplot\" is imported with the alias \"plt\". The syntax for plotting y as a function of x is simply <code>plt.plot(x,y)</code>. You should plot a row of the absorbance data vs time."
   ]
  },
  {
   "cell_type": "code",
   "execution_count": null,
   "metadata": {
    "collapsed": false
   },
   "outputs": [],
   "source": [
    "plt.plot(time,example_growth_curve); #semicolons suppress some text output, feel free to remove to see text"
   ]
  },
  {
   "cell_type": "markdown",
   "metadata": {},
   "source": [
    "The plot above looks ok, but it would be nice to have the axes be labeled. That can be done with the plt.xlabel and plt.ylabel functions."
   ]
  },
  {
   "cell_type": "code",
   "execution_count": null,
   "metadata": {
    "collapsed": false
   },
   "outputs": [],
   "source": [
    "plt.plot(time,example_growth_curve); #semicolons suppress some text output, feel free to remove to see text\n",
    "plt.xlabel('time (hours)');\n",
    "plt.ylabel('absorbance');"
   ]
  },
  {
   "cell_type": "markdown",
   "metadata": {},
   "source": [
    "Now the plot looks pretty good, but ideally you'd like to look at plots of all the data. You can plot more than one line in a plot by copy pasting the above code and changing the index of the row you want to plot as the y data."
   ]
  },
  {
   "cell_type": "code",
   "execution_count": null,
   "metadata": {
    "collapsed": false
   },
   "outputs": [],
   "source": [
    "plt.plot(time,data[1,:]);\n",
    "plt.plot(time,data[2,:]);\n",
    "plt.plot(time,data[3,:]);\n",
    "plt.plot(time,data[4,:]);\n",
    "plt.plot(time,data[5,:]);\n",
    "plt.plot(time,data[6,:]);\n",
    "plt.xlabel('time (hours)');\n",
    "plt.ylabel('absorbance');"
   ]
  },
  {
   "cell_type": "markdown",
   "metadata": {},
   "source": [
    "This graph has two problems. One is that it's hard to figure out which line corresponds to which data. The second is that copy pasting code over and over with tiny changes is inefficient when done 6 times, painful when done 60 times, and impossible when done 6000 times.\n",
    "\n",
    "Let's deal with the second problem first.\n",
    "\n",
    "Having to repetitively apply the same operation over and over is a common problem in programming. To help with this, Python has something called a <code>for</code> loop. For some collection of items, a for loop will perform the same task for each item in the collection. The syntax of a for loop is to first write\n",
    "\n",
    "<code>for items in collection:</code>\n",
    "\n",
    "<code>items</code> can be any word you like that isn't already a Python keyword (for example, <code>for</code>). <code>collection</code> is some variable in python that is in some sense a collection of things, or <code>collection</code> is a collection of values. After this line indent by four spaces and tell python what you want it to do for each <code>item</code> in the <code>collection</code>. For example, if you wanted to print the numbers 0 through 9 you could type"
   ]
  },
  {
   "cell_type": "code",
   "execution_count": null,
   "metadata": {
    "collapsed": false
   },
   "outputs": [],
   "source": [
    "for i in [0,1,2,3,4,5,6,7,8,9]:\n",
    "    print(i)"
   ]
  },
  {
   "cell_type": "markdown",
   "metadata": {},
   "source": [
    "The brackets around the numbers above make a list. A list is just a list of other python stuff. A list can be filled with any arbitrary combination of stuff. Generating a list by manually typing in its contents can take a while though.\n",
    "\n",
    "In fact, looping through integers is so common it has its own function called <code>range</code>."
   ]
  },
  {
   "cell_type": "code",
   "execution_count": null,
   "metadata": {
    "collapsed": false
   },
   "outputs": [],
   "source": [
    "for i in range(0,10):\n",
    "    print(i)"
   ]
  },
  {
   "cell_type": "markdown",
   "metadata": {},
   "source": [
    "Notice that <code>range</code> works the same way as NumPy arrays. 0 is included in the loop but 10 is not. The loop stops right before 10."
   ]
  },
  {
   "cell_type": "markdown",
   "metadata": {},
   "source": [
    "***\n",
    "#### <span style=\"color:blue\">Exercise 3</span>\n",
    "<font size=\"1\">[Return to Table of Contents](#Table-of-Contents)</font>\n",
    "\n",
    "Use a for loop to plot all your rows of data in one plot."
   ]
  },
  {
   "cell_type": "code",
   "execution_count": null,
   "metadata": {
    "collapsed": false
   },
   "outputs": [],
   "source": [
    "# your code here"
   ]
  },
  {
   "cell_type": "markdown",
   "metadata": {},
   "source": [
    "***\n",
    "\n",
    "The graph looks pretty good now, but you still have a problem. You can't tell what data corresponds to what line. To fix this you need to add a legend to the plot. To do this, you'll need **keyword arguments**.\n",
    "\n",
    "## Keyword arguments\n",
    "<font size=\"1\">[Return to Table of Contents](#Table-of-Contents)</font>\n",
    "\n",
    "Up until now, our functions' inputs have been unlabeled. You have to just know what they mean. However, many functions support additional optional arguments. If you don't provide these arguments, they may have a default value, or the function may have a default behavior that doesn't use them. When you do feed a function keyword argument, you'll first put any nonkeyword arguments into the function, then label any keyword arguments by first putting the name of the keyword, second putting an equals sign, and third putting the value you want that keyword argument to have. It looks like this."
   ]
  },
  {
   "cell_type": "code",
   "execution_count": null,
   "metadata": {
    "collapsed": false
   },
   "outputs": [],
   "source": [
    "print('There will be no return after this print.', end=' ') # by changing the end to a space, you can prevent a linebreak\n",
    "print('The next print statement will be on the same line.')"
   ]
  },
  {
   "cell_type": "markdown",
   "metadata": {},
   "source": [
    "What keyword arguments are available depends on the function.\n",
    "\n",
    "How will this help us label our plot? The plot command has an optional keyword that lets us label some data with a string. If you then call the legend command after a plot command, pyplot will put a legend into the plot using the labels. The legend command itself takes optional arguments, one of which lets you adjust the placement of the legend. For example,"
   ]
  },
  {
   "cell_type": "code",
   "execution_count": null,
   "metadata": {
    "collapsed": false
   },
   "outputs": [],
   "source": [
    "x = np.linspace(0,4,num=100) # this command makes an array from 0 to 4 with 'num' evenly spaced points. num defaults to 50.\n",
    "plt.figure(figsize=(8,8)); # if you do this before plotting you can use the \"figsize\" keyword argument to make the plot bigger\n",
    "plt.plot(x, x, label='line'); # here the label keyword associates some text with part of our plotted data\n",
    "plt.plot(x, x**2, label='parabola');\n",
    "plt.legend(loc='upper left'); #the \"loc\" keyword argument tells where to place the legend; if left out, matplotlib tries its best."
   ]
  },
  {
   "cell_type": "markdown",
   "metadata": {},
   "source": [
    "***\n",
    "#### <span style=\"color:blue\">Exercise 4</span>\n",
    "<font size=\"1\">[Return to Table of Contents](#Table-of-Contents)</font>\n",
    "\n",
    "Now you should combine your <code>for</code> loop plotting code with the <code>label</code> keyword and the <code>plt.legend</code> command to label the data in your plot by what row it is in the data array. Make sure your legend doesn't cover up the data! Some of the keyword arguments used in the example above will help. This exercise is a little bit more complicated than the previous ones."
   ]
  },
  {
   "cell_type": "code",
   "execution_count": null,
   "metadata": {
    "collapsed": false
   },
   "outputs": [],
   "source": [
    "# your code here"
   ]
  },
  {
   "cell_type": "markdown",
   "metadata": {},
   "source": [
    "***\n",
    "## Fitting a model to data and defining functions\n",
    "<font size=\"1\">[Return to Table of Contents](#Table-of-Contents)</font>\n",
    "\n",
    "So you've plotted the data, but plotting the *E. coli* population over time doesn't tell you what the *E. coli* growth rate is. To do this, rather than write your own fitting code, you decide to <code>import</code> some already tested curve fitting code from **scipy** and see how it works.\n"
   ]
  },
  {
   "cell_type": "code",
   "execution_count": null,
   "metadata": {
    "collapsed": true
   },
   "outputs": [],
   "source": [
    "from scipy.optimize import curve_fit"
   ]
  },
  {
   "cell_type": "markdown",
   "metadata": {
    "collapsed": true
   },
   "source": [
    "The <code>from</code> statement means that the function <code>curve_fit</code> can be called by name instead of as <code> scipy.optimize.curve_fit</code>. Reading the documentation, you see that for curve_fit to work, you need to define a function to be fitted. So let's learn how to write a new function. You tell Python you're defining a new function with the <code>def</code> keyword. Then put a space, then a function name then parentheses with the names of any inputs (arguments) the function will take inside the parentheses. You then have to put a colon and go to the next line. On the next line, indent by four spaces. **_The four spaces are syntactically meaningful to python and any code with that indentation will be part of the function until you unindent._** If you want the function to have any output, you'll need to put a <code>return</code> followed by the value you want the function to return. Here's an example function that counts the number of characters in a string (don't actually use this function, python already has its own function for this)"
   ]
  },
  {
   "cell_type": "code",
   "execution_count": null,
   "metadata": {
    "collapsed": true
   },
   "outputs": [],
   "source": [
    "def string_length(string):\n",
    "    counter=0\n",
    "    for character in string:\n",
    "        counter = counter + 1\n",
    "    return counter"
   ]
  },
  {
   "cell_type": "markdown",
   "metadata": {},
   "source": [
    "And here's the function in action"
   ]
  },
  {
   "cell_type": "code",
   "execution_count": null,
   "metadata": {
    "collapsed": false
   },
   "outputs": [],
   "source": [
    "string_length('cat')"
   ]
  },
  {
   "cell_type": "markdown",
   "metadata": {},
   "source": [
    "Here's a function which takes in a NumPy array and computes a second degree polynomial element-wise"
   ]
  },
  {
   "cell_type": "code",
   "execution_count": null,
   "metadata": {
    "collapsed": true
   },
   "outputs": [],
   "source": [
    "def second_order_polynomial(x, a, b, c):\n",
    "    return a*x**2 + b*x + c"
   ]
  },
  {
   "cell_type": "markdown",
   "metadata": {},
   "source": [
    "And here's what a plot of the output of this function vs its input looks like"
   ]
  },
  {
   "cell_type": "code",
   "execution_count": null,
   "metadata": {
    "collapsed": false
   },
   "outputs": [],
   "source": [
    "x = np.linspace(0,6) #creates a 1-D array of points spaced from 0 to 6 (including both ends)\n",
    "y = second_order_polynomial(x, .5, 1, -2)\n",
    "plt.plot(x,y);\n",
    "plt.xlabel('x');\n",
    "plt.ylabel('y');"
   ]
  },
  {
   "cell_type": "markdown",
   "metadata": {},
   "source": [
    "Now that you know how to write functions, you can finish your analysis of *E. coli* growth rate as a function of chloramphenicol concentration. This will be the most involved exercise yet! Take your time, read carefully, do it step by step, and don't be afraid to ask questions.\n",
    "\n",
    "***\n",
    "#### <span style=\"color:blue\">Exercise 5</span>\n",
    "<font size=\"1\">[Return to Table of Contents](#Table-of-Contents)</font>\n",
    "\n",
    "For this *E. coli* data, you'd like to fit the logistic function to the population over time. However, the absorbance of water is not 0, so the measurements are shifted by some constant amount. Write a logistic function like the one on [wikipedia](https://en.wikipedia.org/wiki/Logistic_function#In_ecology:_modeling_population_growth) using the parameterization given for ecological modeling, except with a constant c added to the entire function that can shift it vertically. Make sure that the first argument to your logistic function is the time arguments. The curve fit function you will call requires this. Plot your logistic function and make sure it appears similar to the logistic function on wikipedia except for the vertical shift due your new constant c."
   ]
  },
  {
   "cell_type": "code",
   "execution_count": null,
   "metadata": {
    "collapsed": false
   },
   "outputs": [],
   "source": [
    "# define your logistic function here\n",
    "\n",
    "\n",
    "#the time or x data below and parameter values are to help you plot your logistic function.\n",
    "#Later, you should use these parameters as an initial guess for the curve_fit function\n",
    "t=np.linspace(0,24)\n",
    "r_guess = 1\n",
    "K_guess = 1\n",
    "P_0_guess = .001\n",
    "c_guess = .1\n",
    "#write some code to plot your logistic function below\n"
   ]
  },
  {
   "cell_type": "markdown",
   "metadata": {},
   "source": [
    "Now you should try using curve_fit to find the parameters of a logistic function fit to one of the growth curve data. Read the [documentation of curve fit](https://docs.scipy.org/doc/scipy/reference/generated/scipy.optimize.curve_fit.html) carefully, especially the example code! You're going to need to use the keyword argument <code>p0</code> to help the algorithm converge. If you look at your plots from [Exercise 4](Exercise-4) you can read off roughly what the vertical shift c will be and roughly what the maximum value of the logistic function will be. From your knowledge of *E. coli* you decide r must be roughly of order 1 and P_0 must be of order .001."
   ]
  },
  {
   "cell_type": "code",
   "execution_count": null,
   "metadata": {
    "collapsed": false
   },
   "outputs": [],
   "source": [
    "# Your code to fit a logistic curve + shift to one data set here"
   ]
  },
  {
   "cell_type": "markdown",
   "metadata": {},
   "source": [
    "Once you've succeeded for one curve, you should fit all the curves. Save the values you get for the exponential parameter in the logistic equation. These are the growth rate of the *E. coli* before food and space start running out. How the growth rate changes with the row is how the growth rate changes with chloramphenicol concentration since each row is a different chloramphenicol concentration."
   ]
  },
  {
   "cell_type": "code",
   "execution_count": null,
   "metadata": {
    "collapsed": false
   },
   "outputs": [],
   "source": [
    "# Now do it for all your data\n",
    "# r_list is a data structure for storing the values of your curve fit.\n",
    "# Add a piece of data to r_list by calling r_list.append(your_data)\n",
    "r_list = [] #this is an empty list to store your values of the growth rate parameter"
   ]
  },
  {
   "cell_type": "markdown",
   "metadata": {},
   "source": [
    "Finally, you should plot the resulting fits of the growth rate parameter r vs the chloramphenicol concentrations that correspond to each row of data. From row 1 to row 6, the respective chloramphenicol concentrations are 0, 12, 20, 26, 38, and 44 nanograms per milliliter."
   ]
  },
  {
   "cell_type": "code",
   "execution_count": null,
   "metadata": {
    "collapsed": false
   },
   "outputs": [],
   "source": [
    "# Last piece of code here! After this you're done.\n",
    "# You should find that the growth rate decreases with increasing chloramphenicol concenration."
   ]
  },
  {
   "cell_type": "code",
   "execution_count": null,
   "metadata": {
    "collapsed": true
   },
   "outputs": [],
   "source": []
  }
 ],
 "metadata": {
  "kernelspec": {
   "display_name": "Python 3",
   "language": "python",
   "name": "python3"
  },
  "language_info": {
   "codemirror_mode": {
    "name": "ipython",
    "version": 3
   },
   "file_extension": ".py",
   "mimetype": "text/x-python",
   "name": "python",
   "nbconvert_exporter": "python",
   "pygments_lexer": "ipython3",
   "version": "3.5.2"
  }
 },
 "nbformat": 4,
 "nbformat_minor": 1
}
